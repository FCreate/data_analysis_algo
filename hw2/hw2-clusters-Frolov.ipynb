{
 "cells": [
  {
   "cell_type": "markdown",
   "metadata": {},
   "source": [
    "# Алгоритмы интеллектуальной обработки больших объемов данных\n",
    "## Домашнее задание №2 - Алгоритмы кластеризации\n"
   ]
  },
  {
   "cell_type": "markdown",
   "metadata": {},
   "source": [
    "###### <hr\\>\n",
    "**Общая информация**\n",
    "\n",
    "**Срок сдачи:** 23 октября 2017, 06:00 <br\\>\n",
    "**Штраф за опоздание:** -2 балла после 06:00 23 октября, -4 балла после 06:00 30 октября, -6 баллов после 06:00 6 ноября\n",
    "\n",
    "При отправлении ДЗ указывайте фамилию в названии файла\n",
    "Присылать ДЗ необходимо в виде ссылки на свой github репозиторий в slack @alkhamush Необходимо в slack создать таск в приватный чат:\n",
    "/todo Фамилия Имя ссылка на гитхаб @alkhamush\n",
    "Пример:\n",
    "/todo Ксения Стройкова https://github.com/stroykova/spheremailru/stroykova_hw1.ipynb @alkhamush\n",
    "\n",
    "Используйте данный Ipython Notebook при оформлении домашнего задания.\n",
    "<hr\\>"
   ]
  },
  {
   "cell_type": "markdown",
   "metadata": {},
   "source": [
    "###### Задание 1 (4 балла)\n",
    "Реализовать алгоритм кластеризации, который относится к вашему варианту. Проверить работоспособность алгоритма на \"Iris\". Сравните свой алгоритм кластеризации с алгоритмом из scikit-learn по времени выполнения, использую timeit. Ваша реализация не должна работать сильно дольше, а в идеале должна быть даже немного быстрее.\n",
    "\n",
    "###### Задание 2 (2 балла)\n",
    "Выбрать, имплементировать и использовать критерий качества\n",
    "\n",
    "###### Задание 3 (3балла)\n",
    "Применить алгоритм кластеризации к данным по странам.   \n",
    "Подход следующий: фиксируем год, для каждой страны берём индикаторы по зафиксированному году, кластеризуем по индикаторам.   \n",
    "Разбиение должно быть объяснимым, в противном случае, скорее всего нужно лучше настроить параметры кластеризации.   \n",
    "Данные нужно скачать тут https://data.worldbank.org/data-catalog/world-development-indicators.   \n",
    "Также необходимо показать, какие страны попали в общий кластер.\n",
    "изуализировать результат с помощью T-SNE. Внимание! На полном объеме данных данный алгоритм может работать существенное время.\n",
    "\n",
    "###### Задание 4 (1 балл)\n",
    "Опишите в выводе почему и какие страны попали в общий кластер."
   ]
  },
  {
   "cell_type": "markdown",
   "metadata": {},
   "source": [
    "Основная задача этого задания - реализация одного из алгоритмов кластеризации. Кроме того, мы научимся подбирать параметры алгоритма, визуализируем результат кластеризации и попытаемся проанализировать природу полученных кластеров."
   ]
  },
  {
   "cell_type": "code",
   "execution_count": 1,
   "metadata": {
    "collapsed": false
   },
   "outputs": [
    {
     "name": "stdout",
     "output_type": "stream",
     "text": [
      "Populating the interactive namespace from numpy and matplotlib\n"
     ]
    }
   ],
   "source": [
    "import pandas as pd\n",
    "import pylab as pl\n",
    "import numpy as np\n",
    "import scipy.spatial as ss\n",
    "import sklearn.cluster as sc\n",
    "import sklearn.manifold as sm\n",
    "import sklearn.datasets as ds\n",
    "import sklearn.metrics as smt\n",
    "\n",
    "import matplotlib.pyplot as plt\n",
    "import mpl_toolkits.basemap as bm\n",
    "\n",
    "%matplotlib inline\n",
    "\n",
    "plt.style.use('ggplot')\n",
    "plt.rcParams['figure.figsize'] = (12,5)\n",
    "\n",
    "# Plotting config\n",
    "%pylab inline"
   ]
  },
  {
   "cell_type": "markdown",
   "metadata": {},
   "source": [
    "## Реализация алгоритма"
   ]
  },
  {
   "cell_type": "markdown",
   "metadata": {},
   "source": [
    "Алгоритм кластеризации, который необходимо реализовать, выбирается на основании Вашего порядкового номера в списке группы."
   ]
  },
  {
   "cell_type": "markdown",
   "metadata": {},
   "source": [
    "1. Авилова Екатерина\n",
    "2. Адаменко Павел\n",
    "3. Акиньщиков Алексей\n",
    "4. Афанасьева Анастасия\n",
    "5. Балес Александр\n",
    "6. Беляев Владимир\n",
    "7. Беспалова Анастасия\n",
    "8. Богомолов Эмиль\n",
    "9. Боднарюк Василий\n",
    "10. Бучкин Александр\n",
    "11. Валинуров Денис\n",
    "12. Волков Глеб\n",
    "13. Голенков Кирилл\n",
    "14. Горбушин Михаил\n",
    "15. Димов Илья\n",
    "16. Докшина Елизавета\n",
    "17. Дорожинский Владислав\n",
    "18. Жирнов Михаил\n",
    "19. Жолковский Евгений\n",
    "20. Зайдель Петр\n",
    "21. Зимнюков Максим\n",
    "22. Иванов Илья\n",
    "23. Кашипов Артем\n",
    "24. Комов Евгений\n",
    "25. Кошман Дима\n",
    "26. Кузнецова Екатерина\n",
    "27. Кулагин Алексей\n",
    "28. Лавреновъ Виталiй\n",
    "29. Лебедь Федор\n",
    "30. Лешков Михаил\n",
    "31. Лозинский Иван\n",
    "32. Лоскутов Антон\n",
    "33. Лютов Владимир\n",
    "34. Мажаров Иван\n",
    "35. Манкевич Павел\n",
    "36. Муравьев Никита\n",
    "37. Находнов Максим\n",
    "38. Оплачко Николай\n",
    "39. Павлов Евгений\n",
    "40. Петряйкин Федор\n",
    "41. Рахматуллин Фарид\n",
    "42. Секретарев Тихон\n",
    "43. Сенюшкин Дмитрий\n",
    "44. Серов Николай\n",
    "45. Смирнов Александр\n",
    "46. Соловьев Павел\n",
    "47. Сомов Иван\n",
    "48. Спиркин Роман\n",
    "49. Терёшина Мария\n",
    "50. Торбунова Екатерина\n",
    "51. Тюгаев Антон\n",
    "52. Фельдман Борис\n",
    "53. Филин Максим\n",
    "54. Фролов Михаил\n",
    "55. Хохлов Олег\n",
    "56. Черемнов Андрей\n",
    "57. Шевцов Антон\n",
    "58. Шурыгин Александр"
   ]
  },
  {
   "cell_type": "code",
   "execution_count": 2,
   "metadata": {
    "collapsed": true
   },
   "outputs": [],
   "source": [
    "N = 54 # put your index here"
   ]
  },
  {
   "cell_type": "code",
   "execution_count": 3,
   "metadata": {
    "collapsed": false
   },
   "outputs": [
    {
     "name": "stdout",
     "output_type": "stream",
     "text": [
      "Реализуем алгоритм кластеризации 'Gaussian Mixture Model с использованием maximum a-posteriori для выбора кластера (параметр - k)'\n"
     ]
    }
   ],
   "source": [
    "algorithms = [\n",
    "    u\"Gaussian Mixture Model с использованием maximum a-posteriori для выбора кластера (параметр - k)\",\n",
    "    u\"Hierarchical clustering с поддержкой single-linkage, complete-linkage, average-linkage (параметры - k, linkage)\",\n",
    "    u\"DBSCAN. (параметры - epsilon, min_pts)\"\n",
    "]\n",
    "\n",
    "my_algorithm = algorithms[N % len(algorithms)]\n",
    "print u\"Реализуем алгоритм кластеризации '%s'\" % my_algorithm"
   ]
  },
  {
   "cell_type": "markdown",
   "metadata": {},
   "source": [
    "Алгоритм кластеризации должен удовлетворять следующему интерфейсу. Конструктор принимает набор параметров, необходимых для работы алгоритма кластеризации. Метод `fit` подсчитывает параметры модели и возвращает `self`. Метод `predict` возвращает вектор с индексами кластеров для поданных в него объектов `x`"
   ]
  },
  {
   "cell_type": "code",
   "execution_count": 4,
   "metadata": {
    "collapsed": false
   },
   "outputs": [],
   "source": [
    "## Задание 1\n",
    "from sklearn.base import BaseEstimator, ClusterMixin\n",
    "from scipy.stats import multivariate_normal\n",
    "from itertools import count\n",
    "import time\n",
    "class Clustering(BaseEstimator, ClusterMixin):\n",
    "    \"\"\"\n",
    "    Implement clustering algorithm according \n",
    "    \"\"\"\n",
    "    \n",
    "    def __init__(self, k, random_state=None, eps=1e-2, max_steps = 100):\n",
    "        \"\"\"\n",
    "        Please add necessary algoritm parameters to class constructor.\n",
    "        \"\"\"\n",
    "        self.k = k\n",
    "        self.random_state = random_state\n",
    "        self.eps = eps\n",
    "        self.max_steps =max_steps\n",
    "        return\n",
    "        \n",
    "    def fit(self, X, y=None):\n",
    "        \"\"\"\n",
    "        Use data matrix x to compute model parameters\n",
    "        \"\"\"\n",
    "        self.x_len = len(X)\n",
    "        #Initialize starter parameteres - mu, pi, sigma\n",
    "        np.random.seed(self.random_state)\n",
    "        self.mu = [X[np.random.randint(0, X.shape[0])]]\n",
    "        for i in range(1, self.k):\n",
    "            cumsum = np.cumsum(ss.distance.cdist(X, self.mu, metric='sqeuclidean').min(axis=1))\n",
    "            index = (cumsum >= np.random.random() * cumsum[-1]).tolist().index(True)\n",
    "            self.mu.append(X[index])    \n",
    "        self.mu = np.array(self.mu)\n",
    "        self.sigma = np.array([np.eye(len(X[0])) for i in range(self.k)])\n",
    "        self.pi = np.ones(self.k) / self.k\n",
    "        self.gamma= np.zeros((self.k, self.x_len))\n",
    "        \n",
    "        likilihood_previous = 0\n",
    "        for step in count(1):\n",
    "            #E step\n",
    "            for j in range(self.k):\n",
    "                self.gamma[j, :] = self.pi[j] * multivariate_normal.pdf(X, allow_singular=True, mean = self.mu[j], cov = self.sigma[j])\n",
    "            gamma_sum = np.sum(self.gamma, axis = 0)\n",
    "            self.gamma = self.gamma / gamma_sum\n",
    "            if (step>self.max_steps):\n",
    "                return self\n",
    "            likilihood = np.sum(np.array(gamma_sum))\n",
    "            if (abs(likilihood - likilihood) < self.eps):\n",
    "                return self\n",
    "            likilihood_previous = likilihood\n",
    "            #M step\n",
    "            N = np.sum(self.gamma, axis = 1)\n",
    "            self.mu = np.dot(self.gamma[:], X) / N[:, None]\n",
    "            self.pi = N[:,None] / self.x_len\n",
    "            for i in range(self.k):\n",
    "                for j in range(len(X)):\n",
    "                    self.sigma[i]+= gamma[i,j] * np.outer(X[j] - self.mu[i], X[j] - self.mu[i])\n",
    "                self.sigma[i] = self.sigma[i] / N[i]\n",
    "            \n",
    "            return self\n",
    "    \n",
    "    \n",
    "    def predict(self, X):\n",
    "        \"\"\"\n",
    "        Using computed model parameters predict cluster\n",
    "        for all objects from x\n",
    "        \"\"\"\n",
    "        y = np.array([np.argmax([self.pi[i] * multivariate_normal.pdf(X[j], allow_singular=True, mean = self.mu[i], cov = self.sigma[i]) for i in range(self.k)])\n",
    "                     for j in range(len(X))] )\n",
    "        return y\n",
    "    \n",
    "    def fit_predict(self, X, y=None):\n",
    "        self.fit(X, y)\n",
    "        return self.predict(X)"
   ]
  },
  {
   "cell_type": "markdown",
   "metadata": {},
   "source": [
    "Сначала проверим реализованный алгоритм кластеризации на классическом наборе данных [Iris](http://www.wikiwand.com/en/Iris_flower_data_set). Загрузим данные (они включены в библиотеку sklearn) и посмотрим на то, как они выглядят в двух проекциях (для простоты используем 2 класса из 3)."
   ]
  },
  {
   "cell_type": "code",
   "execution_count": 5,
   "metadata": {
    "collapsed": false
   },
   "outputs": [
    {
     "data": {
      "image/png": "[encoded data removed]",
      "text/plain": [
       "<matplotlib.figure.Figure at 0x7f44be764c90>"
      ]
     },
     "metadata": {},
     "output_type": "display_data"
    }
   ],
   "source": [
    "iris = ds.load_iris()\n",
    "x_iris = iris.data[:100]\n",
    "y_iris = iris.target[:100]\n",
    "\n",
    "pl.figure(figsize=(10, 5))\n",
    "\n",
    "pl.subplot(1, 2, 1)\n",
    "pl.scatter(x_iris[:, 0], x_iris[:, 1], c=y_iris, cmap=pl.cm.PuOr, lw=0, s=30)\n",
    "plt.xlabel('Sepal length')\n",
    "plt.ylabel('Sepal width')\n",
    "\n",
    "pl.subplot(1, 2, 2)\n",
    "pl.scatter(x_iris[:, 2], x_iris[:, 3], c=y_iris, cmap=pl.cm.PuOr, lw=0, s=30)\n",
    "plt.xlabel('Petal length')\n",
    "plt.ylabel('Petal width')\n",
    "pl.show()"
   ]
  },
  {
   "cell_type": "code",
   "execution_count": 6,
   "metadata": {
    "collapsed": false
   },
   "outputs": [],
   "source": [
    "pred_iris =  Clustering(k=2, random_state=100).fit_predict(x_iris)"
   ]
  },
  {
   "cell_type": "code",
   "execution_count": 7,
   "metadata": {
    "collapsed": false
   },
   "outputs": [
    {
     "data": {
      "image/png": "[encoded data removed]",
      "text/plain": [
       "<matplotlib.figure.Figure at 0x7f44be764b10>"
      ]
     },
     "metadata": {},
     "output_type": "display_data"
    }
   ],
   "source": [
    "pl.figure(figsize=(10, 5))\n",
    "\n",
    "pl.subplot(1, 2, 1)\n",
    "pl.scatter(x_iris[:, 0], x_iris[:, 1], c=pred_iris, cmap=pl.cm.PuOr, lw=0, s=30)\n",
    "plt.xlabel('Sepal length')\n",
    "plt.ylabel('Sepal width')\n",
    "\n",
    "pl.subplot(1, 2, 2)\n",
    "pl.scatter(x_iris[:, 2], x_iris[:, 3], c=pred_iris, cmap=pl.cm.PuOr, lw=0, s=30)\n",
    "plt.xlabel('Petal length')\n",
    "plt.ylabel('Petal width')\n",
    "pl.show()"
   ]
  },
  {
   "cell_type": "markdown",
   "metadata": {},
   "source": [
    "Видно, что классы разделяются, поэтому можно надеяться, что наш алгоритм \"найдет\" кластеры, соответствующие исходным классам. Результат работы реализованного алгоритма кластеризации предлагается сравнить с эталонной кластеризацией. Для этого предлагается изучить метрику ([adjusted rand score](http://scikit-learn.org/stable/modules/generated/sklearn.metrics.adjusted_rand_score.html)). В случае если значение этой метрики отличается от 1, предлагается поработать над улучшением реализации своего алгоритма."
   ]
  },
  {
   "cell_type": "code",
   "execution_count": 8,
   "metadata": {
    "collapsed": false,
    "scrolled": true
   },
   "outputs": [
    {
     "name": "stdout",
     "output_type": "stream",
     "text": [
      "Adjusted Rand index for iris is: 1.00\n"
     ]
    }
   ],
   "source": [
    "pred_iris = Clustering(k=2,random_state=100).fit_predict(x_iris)\n",
    "print \"Adjusted Rand index for iris is: %.2f\" % smt.adjusted_rand_score(y_iris, pred_iris)"
   ]
  },
  {
   "cell_type": "code",
   "execution_count": 9,
   "metadata": {
    "collapsed": true
   },
   "outputs": [],
   "source": [
    "from sklearn.mixture import GaussianMixture"
   ]
  },
  {
   "cell_type": "code",
   "execution_count": 10,
   "metadata": {
    "collapsed": false
   },
   "outputs": [
    {
     "name": "stdout",
     "output_type": "stream",
     "text": [
      "The slowest run took 83.38 times longer than the fastest. This could mean that an intermediate result is being cached.\n",
      "1 loop, best of 3: 2.92 ms per loop\n"
     ]
    }
   ],
   "source": [
    "%%timeit\n",
    "\n",
    "GaussianMixture(n_components=2,random_state=100).fit(x_iris).predict(x_iris)"
   ]
  },
  {
   "cell_type": "code",
   "execution_count": 11,
   "metadata": {
    "collapsed": false
   },
   "outputs": [
    {
     "name": "stdout",
     "output_type": "stream",
     "text": [
      "10 loops, best of 3: 29.6 ms per loop\n"
     ]
    }
   ],
   "source": [
    "%%timeit\n",
    "\n",
    "Clustering(2,random_state=100).fit_predict(x_iris)"
   ]
  },
  {
   "cell_type": "markdown",
   "metadata": {},
   "source": [
    "Выбрать и реализовать критерий качества, на основании которого будут подбираться параметры модели. Варианты критериев:\n",
    "- Инерция (сумма квадратов расстояний от каждой из точек до ближайшего к этой точке центроида)\n",
    "- Средний диаметр (максимальное расстояние между точками в кластере) или радиус (расстояние от центроида до самой дальней от него точки в кластере)\n",
    "- Sihouette\n",
    "\n",
    "**Критерий качества необходимо выбрать таким образом, чтобы он подходил для реализованного алгоритма**"
   ]
  },
  {
   "cell_type": "code",
   "execution_count": 12,
   "metadata": {
    "collapsed": false
   },
   "outputs": [],
   "source": [
    "## Задание 2\n",
    "def inertia(x, y):\n",
    "    \"\"\"\n",
    "    Implement quality criterion of your choice\n",
    "    \"\"\"\n",
    "    dist = 0\n",
    "    X = np.array(x)\n",
    "    X -= X.mean(axis=0)\n",
    "    X /= X.std(axis=0)\n",
    "    for label in range(y.max() + 1):\n",
    "        cluster = X[y == label]\n",
    "        if cluster.shape[0] > 0:\n",
    "            dist += ((cluster - cluster.mean(axis=0)) ** 2).mean()\n",
    "    return dist"
   ]
  },
  {
   "cell_type": "markdown",
   "metadata": {},
   "source": [
    "Применим критерий для выбора параметров алгоритма. Предлагается изменить следующий код таким образом, чтобы кластеризация вызывалась с верным набором параметров. На графике можно будет увидеть зависимость критерия от параметров алгоритма. Необходимо выбрать оптимальные значения этих параметров."
   ]
  },
  {
   "cell_type": "code",
   "execution_count": 13,
   "metadata": {
    "collapsed": false
   },
   "outputs": [
    {
     "data": {
      "image/png": "[encoded data removed]",
      "text/plain": [
       "<matplotlib.figure.Figure at 0x7f4492354f90>"
      ]
     },
     "metadata": {},
     "output_type": "display_data"
    }
   ],
   "source": [
    "ks = range(1, 10)\n",
    "criteria = np.zeros(len(ks))\n",
    "\n",
    "for i, k in enumerate(ks):\n",
    "    y = Clustering(k, random_state = 100).fit_predict(x_iris)\n",
    "    criteria[i] = inertia(x_iris, y)\n",
    "pl.figure(figsize=(8, 6))\n",
    "pl.plot(ks, criteria)\n",
    "pl.title(\"$J(k)$\")\n",
    "pl.ylabel(\"Criteria $J$\")\n",
    "pl.xlabel(\"Number of clusters $k$\")\n",
    "pl.grid()\n",
    "pl.show()"
   ]
  },
  {
   "cell_type": "markdown",
   "metadata": {},
   "source": [
    "Таким образом, из графика получаем, что оптимальное количество кластеров 2-3."
   ]
  },
  {
   "cell_type": "markdown",
   "metadata": {
    "collapsed": true
   },
   "source": [
    "## Задание 3\n",
    "Применить алгоритм кластеризации к данным по странам.\n",
    "Подход следующий: фиксируем год, для каждой страны берём индикаторы по зафиксированному году, кластеризуем по индикаторам.\n",
    "Разбиение должно быть объяснимым, в противном случае, скорее всего нужно лучше настроить параметры кластеризации.\n",
    "Данные нужно скачать тут https://data.worldbank.org/data-catalog/world-development-indicators.\n",
    "Также необходимо показать, какие страны попали в общий кластер. изуализировать результат с помощью T-SNE. Внимание! На полном объеме данных данный алгоритм может работать существенное время."
   ]
  },
  {
   "cell_type": "code",
   "execution_count": 14,
   "metadata": {
    "collapsed": false
   },
   "outputs": [
    {
     "data": {
      "text/html": [
       "<div>\n",
       "<table border=\"1\" class=\"dataframe\">\n",
       "  <thead>\n",
       "    <tr style=\"text-align: right;\">\n",
       "      <th>Indicator Name</th>\n",
       "      <th>2005 PPP conversion factor, GDP (LCU per international $)</th>\n",
       "      <th>2005 PPP conversion factor, private consumption (LCU per international $)</th>\n",
       "      <th>ARI treatment (% of children under 5 taken to a health provider)</th>\n",
       "      <th>Access to clean fuels and technologies for cooking  (% of population)</th>\n",
       "      <th>Access to electricity (% of population)</th>\n",
       "      <th>Access to electricity, rural (% of rural population)</th>\n",
       "      <th>Access to electricity, urban (% of urban population)</th>\n",
       "      <th>Adequacy of social insurance programs (% of total welfare of beneficiary households)</th>\n",
       "      <th>Adequacy of social protection and labor programs (% of total welfare of beneficiary households)</th>\n",
       "      <th>Adequacy of social safety net programs (% of total welfare of beneficiary households)</th>\n",
       "      <th>...</th>\n",
       "      <th>Wholesale price index (2010 = 100)</th>\n",
       "      <th>Women participating in the three decisions (own health care, major household purchases, and visiting family) (% of women age 15-49)</th>\n",
       "      <th>Women who believe a husband is justified in beating his wife (any of five reasons) (%)</th>\n",
       "      <th>Women who believe a husband is justified in beating his wife when she argues with him (%)</th>\n",
       "      <th>Women who believe a husband is justified in beating his wife when she burns the food (%)</th>\n",
       "      <th>Women who believe a husband is justified in beating his wife when she goes out without telling him (%)</th>\n",
       "      <th>Women who believe a husband is justified in beating his wife when she neglects the children (%)</th>\n",
       "      <th>Women who believe a husband is justified in beating his wife when she refuses sex with him (%)</th>\n",
       "      <th>Women who were first married by age 18 (% of women ages 20-24)</th>\n",
       "      <th>Women's share of population ages 15+ living with HIV (%)</th>\n",
       "    </tr>\n",
       "    <tr>\n",
       "      <th>Country Name</th>\n",
       "      <th></th>\n",
       "      <th></th>\n",
       "      <th></th>\n",
       "      <th></th>\n",
       "      <th></th>\n",
       "      <th></th>\n",
       "      <th></th>\n",
       "      <th></th>\n",
       "      <th></th>\n",
       "      <th></th>\n",
       "      <th></th>\n",
       "      <th></th>\n",
       "      <th></th>\n",
       "      <th></th>\n",
       "      <th></th>\n",
       "      <th></th>\n",
       "      <th></th>\n",
       "      <th></th>\n",
       "      <th></th>\n",
       "      <th></th>\n",
       "      <th></th>\n",
       "    </tr>\n",
       "  </thead>\n",
       "  <tbody>\n",
       "    <tr>\n",
       "      <th>Afghanistan</th>\n",
       "      <td>15.132160</td>\n",
       "      <td>16.709670</td>\n",
       "      <td>58.173913</td>\n",
       "      <td>20.992827</td>\n",
       "      <td>23.000000</td>\n",
       "      <td>13.000000</td>\n",
       "      <td>74.000000</td>\n",
       "      <td>31.32692</td>\n",
       "      <td>25.923962</td>\n",
       "      <td>13.9744</td>\n",
       "      <td>...</td>\n",
       "      <td>79.959403</td>\n",
       "      <td>45.3</td>\n",
       "      <td>44.452941</td>\n",
       "      <td>28.45625</td>\n",
       "      <td>19.053333</td>\n",
       "      <td>32.111765</td>\n",
       "      <td>35.541176</td>\n",
       "      <td>23.929412</td>\n",
       "      <td>23.515385</td>\n",
       "      <td>27.968532</td>\n",
       "    </tr>\n",
       "    <tr>\n",
       "      <th>Albania</th>\n",
       "      <td>43.639880</td>\n",
       "      <td>55.653665</td>\n",
       "      <td>45.000000</td>\n",
       "      <td>55.082330</td>\n",
       "      <td>100.000000</td>\n",
       "      <td>100.000000</td>\n",
       "      <td>100.000000</td>\n",
       "      <td>31.32692</td>\n",
       "      <td>25.923962</td>\n",
       "      <td>13.9744</td>\n",
       "      <td>...</td>\n",
       "      <td>91.322206</td>\n",
       "      <td>45.3</td>\n",
       "      <td>29.800000</td>\n",
       "      <td>8.70000</td>\n",
       "      <td>3.100000</td>\n",
       "      <td>17.000000</td>\n",
       "      <td>19.600000</td>\n",
       "      <td>8.700000</td>\n",
       "      <td>7.500000</td>\n",
       "      <td>29.740675</td>\n",
       "    </tr>\n",
       "    <tr>\n",
       "      <th>Algeria</th>\n",
       "      <td>31.807370</td>\n",
       "      <td>38.739440</td>\n",
       "      <td>58.173913</td>\n",
       "      <td>97.478508</td>\n",
       "      <td>98.184265</td>\n",
       "      <td>96.547516</td>\n",
       "      <td>88.003875</td>\n",
       "      <td>31.32692</td>\n",
       "      <td>25.923962</td>\n",
       "      <td>13.9744</td>\n",
       "      <td>...</td>\n",
       "      <td>81.314684</td>\n",
       "      <td>45.3</td>\n",
       "      <td>44.452941</td>\n",
       "      <td>28.45625</td>\n",
       "      <td>19.053333</td>\n",
       "      <td>32.111765</td>\n",
       "      <td>35.541176</td>\n",
       "      <td>23.929412</td>\n",
       "      <td>23.515385</td>\n",
       "      <td>41.619359</td>\n",
       "    </tr>\n",
       "    <tr>\n",
       "      <th>American Samoa</th>\n",
       "      <td>212.144369</td>\n",
       "      <td>249.743743</td>\n",
       "      <td>58.173913</td>\n",
       "      <td>59.062784</td>\n",
       "      <td>76.361676</td>\n",
       "      <td>69.556613</td>\n",
       "      <td>88.003875</td>\n",
       "      <td>31.32692</td>\n",
       "      <td>25.923962</td>\n",
       "      <td>13.9744</td>\n",
       "      <td>...</td>\n",
       "      <td>79.959403</td>\n",
       "      <td>45.3</td>\n",
       "      <td>44.452941</td>\n",
       "      <td>28.45625</td>\n",
       "      <td>19.053333</td>\n",
       "      <td>32.111765</td>\n",
       "      <td>35.541176</td>\n",
       "      <td>23.929412</td>\n",
       "      <td>23.515385</td>\n",
       "      <td>41.126130</td>\n",
       "    </tr>\n",
       "    <tr>\n",
       "      <th>Andorra</th>\n",
       "      <td>212.144369</td>\n",
       "      <td>249.743743</td>\n",
       "      <td>58.173913</td>\n",
       "      <td>100.000000</td>\n",
       "      <td>100.000000</td>\n",
       "      <td>100.000000</td>\n",
       "      <td>100.000000</td>\n",
       "      <td>31.32692</td>\n",
       "      <td>25.923962</td>\n",
       "      <td>13.9744</td>\n",
       "      <td>...</td>\n",
       "      <td>79.959403</td>\n",
       "      <td>45.3</td>\n",
       "      <td>44.452941</td>\n",
       "      <td>28.45625</td>\n",
       "      <td>19.053333</td>\n",
       "      <td>32.111765</td>\n",
       "      <td>35.541176</td>\n",
       "      <td>23.929412</td>\n",
       "      <td>23.515385</td>\n",
       "      <td>41.126130</td>\n",
       "    </tr>\n",
       "  </tbody>\n",
       "</table>\n",
       "<p>5 rows × 1416 columns</p>\n",
       "</div>"
      ],
      "text/plain": [
       "Indicator Name  2005 PPP conversion factor, GDP (LCU per international $)  \\\n",
       "Country Name                                                                \n",
       "Afghanistan                                             15.132160           \n",
       "Albania                                                 43.639880           \n",
       "Algeria                                                 31.807370           \n",
       "American Samoa                                         212.144369           \n",
       "Andorra                                                212.144369           \n",
       "\n",
       "Indicator Name  2005 PPP conversion factor, private consumption (LCU per international $)  \\\n",
       "Country Name                                                                                \n",
       "Afghanistan                                             16.709670                           \n",
       "Albania                                                 55.653665                           \n",
       "Algeria                                                 38.739440                           \n",
       "American Samoa                                         249.743743                           \n",
       "Andorra                                                249.743743                           \n",
       "\n",
       "Indicator Name  ARI treatment (% of children under 5 taken to a health provider)  \\\n",
       "Country Name                                                                       \n",
       "Afghanistan                                             58.173913                  \n",
       "Albania                                                 45.000000                  \n",
       "Algeria                                                 58.173913                  \n",
       "American Samoa                                          58.173913                  \n",
       "Andorra                                                 58.173913                  \n",
       "\n",
       "Indicator Name  Access to clean fuels and technologies for cooking  (% of population)  \\\n",
       "Country Name                                                                            \n",
       "Afghanistan                                             20.992827                       \n",
       "Albania                                                 55.082330                       \n",
       "Algeria                                                 97.478508                       \n",
       "American Samoa                                          59.062784                       \n",
       "Andorra                                                100.000000                       \n",
       "\n",
       "Indicator Name  Access to electricity (% of population)  \\\n",
       "Country Name                                              \n",
       "Afghanistan                                   23.000000   \n",
       "Albania                                      100.000000   \n",
       "Algeria                                       98.184265   \n",
       "American Samoa                                76.361676   \n",
       "Andorra                                      100.000000   \n",
       "\n",
       "Indicator Name  Access to electricity, rural (% of rural population)  \\\n",
       "Country Name                                                           \n",
       "Afghanistan                                             13.000000      \n",
       "Albania                                                100.000000      \n",
       "Algeria                                                 96.547516      \n",
       "American Samoa                                          69.556613      \n",
       "Andorra                                                100.000000      \n",
       "\n",
       "Indicator Name  Access to electricity, urban (% of urban population)  \\\n",
       "Country Name                                                           \n",
       "Afghanistan                                             74.000000      \n",
       "Albania                                                100.000000      \n",
       "Algeria                                                 88.003875      \n",
       "American Samoa                                          88.003875      \n",
       "Andorra                                                100.000000      \n",
       "\n",
       "Indicator Name  Adequacy of social insurance programs (% of total welfare of beneficiary households)  \\\n",
       "Country Name                                                                                           \n",
       "Afghanistan                                              31.32692                                      \n",
       "Albania                                                  31.32692                                      \n",
       "Algeria                                                  31.32692                                      \n",
       "American Samoa                                           31.32692                                      \n",
       "Andorra                                                  31.32692                                      \n",
       "\n",
       "Indicator Name  Adequacy of social protection and labor programs (% of total welfare of beneficiary households)  \\\n",
       "Country Name                                                                                                      \n",
       "Afghanistan                                             25.923962                                                 \n",
       "Albania                                                 25.923962                                                 \n",
       "Algeria                                                 25.923962                                                 \n",
       "American Samoa                                          25.923962                                                 \n",
       "Andorra                                                 25.923962                                                 \n",
       "\n",
       "Indicator Name  Adequacy of social safety net programs (% of total welfare of beneficiary households)  \\\n",
       "Country Name                                                                                            \n",
       "Afghanistan                                               13.9744                                       \n",
       "Albania                                                   13.9744                                       \n",
       "Algeria                                                   13.9744                                       \n",
       "American Samoa                                            13.9744                                       \n",
       "Andorra                                                   13.9744                                       \n",
       "\n",
       "Indicator Name                            ...                             \\\n",
       "Country Name                              ...                              \n",
       "Afghanistan                               ...                              \n",
       "Albania                                   ...                              \n",
       "Algeria                                   ...                              \n",
       "American Samoa                            ...                              \n",
       "Andorra                                   ...                              \n",
       "\n",
       "Indicator Name  Wholesale price index (2010 = 100)  \\\n",
       "Country Name                                         \n",
       "Afghanistan                              79.959403   \n",
       "Albania                                  91.322206   \n",
       "Algeria                                  81.314684   \n",
       "American Samoa                           79.959403   \n",
       "Andorra                                  79.959403   \n",
       "\n",
       "Indicator Name  Women participating in the three decisions (own health care, major household purchases, and visiting family) (% of women age 15-49)  \\\n",
       "Country Name                                                                                                                                          \n",
       "Afghanistan                                                  45.3                                                                                     \n",
       "Albania                                                      45.3                                                                                     \n",
       "Algeria                                                      45.3                                                                                     \n",
       "American Samoa                                               45.3                                                                                     \n",
       "Andorra                                                      45.3                                                                                     \n",
       "\n",
       "Indicator Name  Women who believe a husband is justified in beating his wife (any of five reasons) (%)  \\\n",
       "Country Name                                                                                             \n",
       "Afghanistan                                             44.452941                                        \n",
       "Albania                                                 29.800000                                        \n",
       "Algeria                                                 44.452941                                        \n",
       "American Samoa                                          44.452941                                        \n",
       "Andorra                                                 44.452941                                        \n",
       "\n",
       "Indicator Name  Women who believe a husband is justified in beating his wife when she argues with him (%)  \\\n",
       "Country Name                                                                                                \n",
       "Afghanistan                                              28.45625                                           \n",
       "Albania                                                   8.70000                                           \n",
       "Algeria                                                  28.45625                                           \n",
       "American Samoa                                           28.45625                                           \n",
       "Andorra                                                  28.45625                                           \n",
       "\n",
       "Indicator Name  Women who believe a husband is justified in beating his wife when she burns the food (%)  \\\n",
       "Country Name                                                                                               \n",
       "Afghanistan                                             19.053333                                          \n",
       "Albania                                                  3.100000                                          \n",
       "Algeria                                                 19.053333                                          \n",
       "American Samoa                                          19.053333                                          \n",
       "Andorra                                                 19.053333                                          \n",
       "\n",
       "Indicator Name  Women who believe a husband is justified in beating his wife when she goes out without telling him (%)  \\\n",
       "Country Name                                                                                                             \n",
       "Afghanistan                                             32.111765                                                        \n",
       "Albania                                                 17.000000                                                        \n",
       "Algeria                                                 32.111765                                                        \n",
       "American Samoa                                          32.111765                                                        \n",
       "Andorra                                                 32.111765                                                        \n",
       "\n",
       "Indicator Name  Women who believe a husband is justified in beating his wife when she neglects the children (%)  \\\n",
       "Country Name                                                                                                      \n",
       "Afghanistan                                             35.541176                                                 \n",
       "Albania                                                 19.600000                                                 \n",
       "Algeria                                                 35.541176                                                 \n",
       "American Samoa                                          35.541176                                                 \n",
       "Andorra                                                 35.541176                                                 \n",
       "\n",
       "Indicator Name  Women who believe a husband is justified in beating his wife when she refuses sex with him (%)  \\\n",
       "Country Name                                                                                                     \n",
       "Afghanistan                                             23.929412                                                \n",
       "Albania                                                  8.700000                                                \n",
       "Algeria                                                 23.929412                                                \n",
       "American Samoa                                          23.929412                                                \n",
       "Andorra                                                 23.929412                                                \n",
       "\n",
       "Indicator Name  Women who were first married by age 18 (% of women ages 20-24)  \\\n",
       "Country Name                                                                     \n",
       "Afghanistan                                             23.515385                \n",
       "Albania                                                  7.500000                \n",
       "Algeria                                                 23.515385                \n",
       "American Samoa                                          23.515385                \n",
       "Andorra                                                 23.515385                \n",
       "\n",
       "Indicator Name  Women's share of population ages 15+ living with HIV (%)  \n",
       "Country Name                                                              \n",
       "Afghanistan                                             27.968532         \n",
       "Albania                                                 29.740675         \n",
       "Algeria                                                 41.619359         \n",
       "American Samoa                                          41.126130         \n",
       "Andorra                                                 41.126130         \n",
       "\n",
       "[5 rows x 1416 columns]"
      ]
     },
     "execution_count": 14,
     "metadata": {},
     "output_type": "execute_result"
    }
   ],
   "source": [
    "countries_all_years = pd.read_csv(\"WDIData.csv\")\n",
    "countries = countries_all_years[['Country Name','Indicator Name','2005']]\n",
    "countries = countries.dropna(axis=0)\n",
    "df = countries['2005'].groupby([countries['Country Name'],countries['Indicator Name']]).sum().unstack()\n",
    "#Заменим Nan на средее\n",
    "for column in df.columns:\n",
    "    df[column].fillna(df[column].mean(), inplace = True)\n",
    "df.head()"
   ]
  },
  {
   "cell_type": "code",
   "execution_count": 15,
   "metadata": {
    "collapsed": false
   },
   "outputs": [
    {
     "data": {
      "text/plain": [
       "<matplotlib.collections.PathCollection at 0x7f4491ade950>"
      ]
     },
     "execution_count": 15,
     "metadata": {},
     "output_type": "execute_result"
    },
    {
     "data": {
      "image/png": "[encoded data removed]",
      "text/plain": [
       "<matplotlib.figure.Figure at 0x7f44928c0590>"
      ]
     },
     "metadata": {},
     "output_type": "display_data"
    }
   ],
   "source": [
    "from sklearn.manifold import TSNE\n",
    "arr = np.array(df)\n",
    "arrtsne = TSNE(n_components= 2,random_state=10).fit_transform(arr)\n",
    "plt.scatter(arrtsne[:, 0], arrtsne[:, 1])"
   ]
  },
  {
   "cell_type": "code",
   "execution_count": 16,
   "metadata": {
    "collapsed": false
   },
   "outputs": [
    {
     "data": {
      "text/plain": [
       "<matplotlib.collections.PathCollection at 0x7f4491a1ec50>"
      ]
     },
     "execution_count": 16,
     "metadata": {},
     "output_type": "execute_result"
    },
    {
     "data": {
      "image/png": "[encoded data removed]",
      "text/plain": [
       "<matplotlib.figure.Figure at 0x7f44928c0990>"
      ]
     },
     "metadata": {},
     "output_type": "display_data"
    }
   ],
   "source": [
    "np.seterr(divide='ignore', invalid='ignore')\n",
    "y = Clustering(k = 3, random_state = 3).fit_predict(arrtsne)\n",
    "plt.scatter(arrtsne[:, 0], arrtsne[:, 1], c = y)"
   ]
  },
  {
   "cell_type": "code",
   "execution_count": null,
   "metadata": {
    "collapsed": true
   },
   "outputs": [],
   "source": [
    "## Задание 4"
   ]
  },
  {
   "cell_type": "code",
   "execution_count": 17,
   "metadata": {
    "collapsed": true
   },
   "outputs": [],
   "source": [
    "names = np.array(list(df.axes[0]))\n",
    "clust = [[] for i in range(len(np.unique(y)))]"
   ]
  },
  {
   "cell_type": "code",
   "execution_count": 18,
   "metadata": {
    "collapsed": true
   },
   "outputs": [],
   "source": [
    "for i in range(len(y)):\n",
    "    clust[y[i]].append(names[i])"
   ]
  },
  {
   "cell_type": "code",
   "execution_count": 19,
   "metadata": {
    "collapsed": false
   },
   "outputs": [
    {
     "data": {
      "text/plain": [
       "[['Afghanistan',\n",
       "  'Andorra',\n",
       "  'Angola',\n",
       "  'Aruba',\n",
       "  'Bahrain',\n",
       "  'Bermuda',\n",
       "  'Bosnia and Herzegovina',\n",
       "  'Cabo Verde',\n",
       "  'Central African Republic',\n",
       "  'Channel Islands',\n",
       "  \"Cote d'Ivoire\",\n",
       "  'Ethiopia',\n",
       "  'Faroe Islands',\n",
       "  'Fiji',\n",
       "  'Georgia',\n",
       "  'Ghana',\n",
       "  'Grenada',\n",
       "  'Guinea',\n",
       "  'Guyana',\n",
       "  'Indonesia',\n",
       "  'Isle of Man',\n",
       "  'Jamaica',\n",
       "  'Kiribati',\n",
       "  'Kosovo',\n",
       "  'Kuwait',\n",
       "  'Liechtenstein',\n",
       "  'Maldives',\n",
       "  'Marshall Islands',\n",
       "  'Micronesia, Fed. Sts.',\n",
       "  'Monaco',\n",
       "  'Montenegro',\n",
       "  'Myanmar',\n",
       "  'Niger',\n",
       "  'Palau',\n",
       "  'Papua New Guinea',\n",
       "  'San Marino',\n",
       "  'Sao Tome and Principe',\n",
       "  'Seychelles',\n",
       "  'Solomon Islands',\n",
       "  'St. Kitts and Nevis',\n",
       "  'St. Lucia',\n",
       "  'St. Vincent and the Grenadines',\n",
       "  'Suriname',\n",
       "  'Tonga',\n",
       "  'Tuvalu',\n",
       "  'Yemen, Rep.'],\n",
       " ['Albania',\n",
       "  'Algeria',\n",
       "  'American Samoa',\n",
       "  'Antigua and Barbuda',\n",
       "  'Argentina',\n",
       "  'Armenia',\n",
       "  'Australia',\n",
       "  'Austria',\n",
       "  'Azerbaijan',\n",
       "  'Bahamas, The',\n",
       "  'Bangladesh',\n",
       "  'Barbados',\n",
       "  'Belarus',\n",
       "  'Belgium',\n",
       "  'Belize',\n",
       "  'Benin',\n",
       "  'Bhutan',\n",
       "  'Bolivia',\n",
       "  'Botswana',\n",
       "  'Brazil',\n",
       "  'Brunei Darussalam',\n",
       "  'Bulgaria',\n",
       "  'Burkina Faso',\n",
       "  'Burundi',\n",
       "  'Cambodia',\n",
       "  'Cameroon',\n",
       "  'Canada',\n",
       "  'Chad',\n",
       "  'China',\n",
       "  'Comoros',\n",
       "  'Congo, Dem. Rep.',\n",
       "  'Congo, Rep.',\n",
       "  'Costa Rica',\n",
       "  'Croatia',\n",
       "  'Cuba',\n",
       "  'Cyprus',\n",
       "  'Czech Republic',\n",
       "  'Denmark',\n",
       "  'Djibouti',\n",
       "  'Dominica',\n",
       "  'Dominican Republic',\n",
       "  'Ecuador',\n",
       "  'Egypt, Arab Rep.',\n",
       "  'El Salvador',\n",
       "  'Equatorial Guinea',\n",
       "  'Eritrea',\n",
       "  'Estonia',\n",
       "  'Finland',\n",
       "  'France',\n",
       "  'Gabon',\n",
       "  'Gambia, The',\n",
       "  'Germany',\n",
       "  'Greece',\n",
       "  'Greenland',\n",
       "  'Guam',\n",
       "  'Guatemala',\n",
       "  'Guinea-Bissau',\n",
       "  'Haiti',\n",
       "  'Honduras',\n",
       "  'Hong Kong SAR, China',\n",
       "  'Hungary',\n",
       "  'Iceland',\n",
       "  'India',\n",
       "  'Ireland',\n",
       "  'Israel',\n",
       "  'Italy',\n",
       "  'Jordan',\n",
       "  'Kazakhstan',\n",
       "  'Kenya',\n",
       "  'Kyrgyz Republic',\n",
       "  'Latvia',\n",
       "  'Lesotho',\n",
       "  'Liberia',\n",
       "  'Libya',\n",
       "  'Lithuania',\n",
       "  'Luxembourg',\n",
       "  'Macao SAR, China',\n",
       "  'Macedonia, FYR',\n",
       "  'Madagascar',\n",
       "  'Malawi',\n",
       "  'Malaysia',\n",
       "  'Mali',\n",
       "  'Malta',\n",
       "  'Mauritania',\n",
       "  'Mauritius',\n",
       "  'Mexico',\n",
       "  'Moldova',\n",
       "  'Mongolia',\n",
       "  'Morocco',\n",
       "  'Mozambique',\n",
       "  'Namibia',\n",
       "  'Nepal',\n",
       "  'Netherlands',\n",
       "  'New Zealand',\n",
       "  'Nicaragua',\n",
       "  'Nigeria',\n",
       "  'Northern Mariana Islands',\n",
       "  'Norway',\n",
       "  'Oman',\n",
       "  'Pakistan',\n",
       "  'Panama',\n",
       "  'Paraguay',\n",
       "  'Peru',\n",
       "  'Philippines',\n",
       "  'Poland',\n",
       "  'Portugal',\n",
       "  'Puerto Rico',\n",
       "  'Qatar',\n",
       "  'Romania',\n",
       "  'Russian Federation',\n",
       "  'Rwanda',\n",
       "  'Samoa',\n",
       "  'Saudi Arabia',\n",
       "  'Senegal',\n",
       "  'Serbia',\n",
       "  'Sierra Leone',\n",
       "  'Singapore',\n",
       "  'Slovak Republic',\n",
       "  'Slovenia',\n",
       "  'South Africa',\n",
       "  'Spain',\n",
       "  'Sri Lanka',\n",
       "  'Sudan',\n",
       "  'Swaziland',\n",
       "  'Sweden',\n",
       "  'Switzerland',\n",
       "  'Syrian Arab Republic',\n",
       "  'Tajikistan',\n",
       "  'Tanzania',\n",
       "  'Thailand',\n",
       "  'Timor-Leste',\n",
       "  'Togo',\n",
       "  'Trinidad and Tobago',\n",
       "  'Tunisia',\n",
       "  'Turkey',\n",
       "  'Turkmenistan',\n",
       "  'Uganda',\n",
       "  'Ukraine',\n",
       "  'United Arab Emirates',\n",
       "  'United Kingdom',\n",
       "  'United States',\n",
       "  'Uruguay',\n",
       "  'Uzbekistan',\n",
       "  'Vanuatu',\n",
       "  'Venezuela, RB',\n",
       "  'Virgin Islands (U.S.)',\n",
       "  'West Bank and Gaza',\n",
       "  'Zambia',\n",
       "  'Zimbabwe'],\n",
       " ['Arab World',\n",
       "  'British Virgin Islands',\n",
       "  'Caribbean small states',\n",
       "  'Cayman Islands',\n",
       "  'Central Europe and the Baltics',\n",
       "  'Chile',\n",
       "  'Colombia',\n",
       "  'Curacao',\n",
       "  'Early-demographic dividend',\n",
       "  'East Asia & Pacific',\n",
       "  'East Asia & Pacific (IDA & IBRD countries)',\n",
       "  'East Asia & Pacific (excluding high income)',\n",
       "  'Euro area',\n",
       "  'Europe & Central Asia',\n",
       "  'Europe & Central Asia (IDA & IBRD countries)',\n",
       "  'Europe & Central Asia (excluding high income)',\n",
       "  'European Union',\n",
       "  'Fragile and conflict affected situations',\n",
       "  'French Polynesia',\n",
       "  'Gibraltar',\n",
       "  'Heavily indebted poor countries (HIPC)',\n",
       "  'High income',\n",
       "  'IBRD only',\n",
       "  'IDA & IBRD total',\n",
       "  'IDA blend',\n",
       "  'IDA only',\n",
       "  'IDA total',\n",
       "  'Iran, Islamic Rep.',\n",
       "  'Iraq',\n",
       "  'Japan',\n",
       "  'Korea, Dem. People\\xe2\\x80\\x99s Rep.',\n",
       "  'Korea, Rep.',\n",
       "  'Lao PDR',\n",
       "  'Late-demographic dividend',\n",
       "  'Latin America & Caribbean',\n",
       "  'Latin America & Caribbean (excluding high income)',\n",
       "  'Latin America & the Caribbean (IDA & IBRD countries)',\n",
       "  'Least developed countries: UN classification',\n",
       "  'Lebanon',\n",
       "  'Low & middle income',\n",
       "  'Low income',\n",
       "  'Lower middle income',\n",
       "  'Middle East & North Africa',\n",
       "  'Middle East & North Africa (IDA & IBRD countries)',\n",
       "  'Middle East & North Africa (excluding high income)',\n",
       "  'Middle income',\n",
       "  'Nauru',\n",
       "  'New Caledonia',\n",
       "  'North America',\n",
       "  'OECD members',\n",
       "  'Other small states',\n",
       "  'Pacific island small states',\n",
       "  'Post-demographic dividend',\n",
       "  'Pre-demographic dividend',\n",
       "  'Sint Maarten (Dutch part)',\n",
       "  'Small states',\n",
       "  'Somalia',\n",
       "  'South Asia',\n",
       "  'South Asia (IDA & IBRD)',\n",
       "  'South Sudan',\n",
       "  'St. Martin (French part)',\n",
       "  'Sub-Saharan Africa',\n",
       "  'Sub-Saharan Africa (IDA & IBRD countries)',\n",
       "  'Sub-Saharan Africa (excluding high income)',\n",
       "  'Turks and Caicos Islands',\n",
       "  'Upper middle income',\n",
       "  'Vietnam',\n",
       "  'World']]"
      ]
     },
     "execution_count": 19,
     "metadata": {},
     "output_type": "execute_result"
    }
   ],
   "source": [
    "clust"
   ]
  },
  {
   "cell_type": "markdown",
   "metadata": {},
   "source": [
    "Таким обрзом получаем: первый кластер - неразвитые страны, второй кластер - развитые страны(относительно первых), третий кластер - обобщенные территориии, не относятся ни к первому, ни к второму кластеру."
   ]
  },
  {
   "cell_type": "markdown",
   "metadata": {},
   "source": [
    "Поздравляем, Вы завершили домашние задания по модулю \"Алгоритмы кластеризации\". Надеемся, что это было интересно."
   ]
  }
 ],
 "metadata": {
  "kernelspec": {
   "display_name": "Python 2",
   "language": "python",
   "name": "python2"
  },
  "language_info": {
   "codemirror_mode": {
    "name": "ipython",
    "version": 2
   },
   "file_extension": ".py",
   "mimetype": "text/x-python",
   "name": "python",
   "nbconvert_exporter": "python",
   "pygments_lexer": "ipython2",
   "version": "2.7.13"
  }
 },
 "nbformat": 4,
 "nbformat_minor": 0
}
